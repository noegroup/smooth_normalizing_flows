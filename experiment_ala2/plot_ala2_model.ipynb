{
 "cells": [
  {
   "cell_type": "code",
   "execution_count": 1,
   "id": "b2502fc0",
   "metadata": {},
   "outputs": [],
   "source": [
    "%load_ext autoreload\n",
    "%autoreload 2"
   ]
  },
  {
   "cell_type": "code",
   "execution_count": 2,
   "id": "2e3c6762",
   "metadata": {},
   "outputs": [],
   "source": [
    "import numpy as np\n",
    "import torch"
   ]
  },
  {
   "cell_type": "code",
   "execution_count": 3,
   "id": "29d6816b",
   "metadata": {},
   "outputs": [],
   "source": [
    "MODEL = \"example\"\n",
    "CHECKPOINT = \"example_checkpoint.ckpt\""
   ]
  },
  {
   "cell_type": "code",
   "execution_count": 6,
   "id": "ff6b790b",
   "metadata": {
    "scrolled": true
   },
   "outputs": [
    {
     "name": "stderr",
     "output_type": "stream",
     "text": [
      "/srv/public/kraemea88/software/anaconda3/envs/smooth_normalizing_flows/lib/python3.9/site-packages/bgflow-0.0.0-py3.9.egg/bgflow/distribution/energy/openmm.py:215: UserWarning: It looks like you are using an OpenMMBridge with multiple workers in an ipython environment. This can behave a bit silly upon KeyboardInterrupt (e.g., kill the stdout stream). If you experience any issues, consider initializing the bridge with n_workers=1 in ipython/jupyter.\n"
     ]
    }
   ],
   "source": [
    "from bgforces.ala2 import Ala2Generator\n",
    "\n",
    "loaded = Ala2Generator.load_from_checkpoint(\n",
    "    CHECKPOINT\n",
    ")"
   ]
  },
  {
   "cell_type": "code",
   "execution_count": 7,
   "id": "824cb530",
   "metadata": {},
   "outputs": [
    {
     "data": {
      "text/plain": [
       "758168"
      ]
     },
     "execution_count": 7,
     "metadata": {},
     "output_type": "execute_result"
    }
   ],
   "source": [
    "sum( np.prod(p.shape) for p in loaded.parameters())"
   ]
  },
  {
   "cell_type": "code",
   "execution_count": 8,
   "id": "82854d69",
   "metadata": {},
   "outputs": [],
   "source": [
    "from bgforces.ala2 import Ala2Data\n",
    "data = Ala2Data(batch_size=128, slice=10)\n",
    "data.prepare_data()\n",
    "data.setup()"
   ]
  },
  {
   "cell_type": "markdown",
   "id": "4d8081aa",
   "metadata": {},
   "source": [
    "# Skip This if data has already been generated:"
   ]
  },
  {
   "cell_type": "code",
   "execution_count": 9,
   "id": "f832a497",
   "metadata": {},
   "outputs": [],
   "source": [
    "tolist = lambda x: list(x.detach().numpy())"
   ]
  },
  {
   "cell_type": "code",
   "execution_count": 10,
   "id": "220222d2",
   "metadata": {},
   "outputs": [],
   "source": [
    "from tqdm.notebook import tqdm"
   ]
  },
  {
   "cell_type": "code",
   "execution_count": 11,
   "id": "46e93f15",
   "metadata": {},
   "outputs": [
    {
     "data": {
      "application/vnd.jupyter.widget-view+json": {
       "model_id": "c3e05e78132e47eb912f2ee0882a6b78",
       "version_major": 2,
       "version_minor": 0
      },
      "text/plain": [
       "  0%|          | 0/100 [00:00<?, ?it/s]"
      ]
     },
     "metadata": {},
     "output_type": "display_data"
    }
   ],
   "source": [
    "class BG:\n",
    "    samples = []\n",
    "    model_energies = []\n",
    "    target_energies = []\n",
    "    model_forces = []\n",
    "    target_forces = []\n",
    "    for i in tqdm(range(100)):\n",
    "        _samples = loaded.model.sample(100)\n",
    "        samples.append(tolist(_samples))\n",
    "        model_energies.append(tolist(loaded.model.energy(_samples)[:,0]))\n",
    "        target_energies.append(tolist(loaded.model._target.energy(_samples)[:,0]))\n",
    "        model_forces.append(tolist(loaded.model.force(_samples)))\n",
    "        target_forces.append(tolist(loaded.model._target.force(_samples)))"
   ]
  },
  {
   "cell_type": "code",
   "execution_count": 12,
   "id": "8d06458e",
   "metadata": {},
   "outputs": [],
   "source": [
    "np.savez(\n",
    "    f\"bg_samples_{MODEL.lower()}.npz\", \n",
    "    samples=np.array(BG.samples),\n",
    "    model_energies=np.array(BG.model_energies),\n",
    "    target_energies=np.array(BG.target_energies),\n",
    "    model_forces=np.array(BG.model_forces),\n",
    "    target_forces=np.array(BG.target_forces)\n",
    ")"
   ]
  },
  {
   "cell_type": "code",
   "execution_count": 13,
   "id": "d932e091",
   "metadata": {},
   "outputs": [
    {
     "data": {
      "application/vnd.jupyter.widget-view+json": {
       "model_id": "9bf1c9d716d646149de1090074acb339",
       "version_major": 2,
       "version_minor": 0
      },
      "text/plain": [
       "  0%|          | 0/100 [00:00<?, ?it/s]"
      ]
     },
     "metadata": {},
     "output_type": "display_data"
    }
   ],
   "source": [
    "class DATA:\n",
    "    samples = []\n",
    "    model_energies = []\n",
    "    target_energies = []\n",
    "    model_forces = []\n",
    "    target_forces = []\n",
    "    for i in tqdm(range(100)):\n",
    "        _samples = data.val_xyz[100*i:100*(i+1)]\n",
    "        samples.append(tolist(_samples))\n",
    "        model_energies.append(tolist(loaded.model.energy(_samples)[:,0]))\n",
    "        target_energies.append(tolist(loaded.model._target.energy(_samples)[:,0]))\n",
    "        model_forces.append(tolist(loaded.model.force(_samples)))\n",
    "        target_forces.append(tolist(loaded.model._target.force(_samples)))"
   ]
  },
  {
   "cell_type": "code",
   "execution_count": 14,
   "id": "7a3486f5",
   "metadata": {},
   "outputs": [],
   "source": [
    "np.savez(\n",
    "    f\"data_samples_{MODEL.lower()}.npz\", \n",
    "    samples=np.array(DATA.samples),\n",
    "    model_energies=np.array(DATA.model_energies),\n",
    "    target_energies=np.array(DATA.target_energies),\n",
    "    model_forces=np.array(DATA.model_forces),\n",
    "    target_forces=np.array(DATA.target_forces)\n",
    ")"
   ]
  },
  {
   "cell_type": "markdown",
   "id": "bbac264f",
   "metadata": {},
   "source": [
    "# ... And Resume Here"
   ]
  },
  {
   "cell_type": "code",
   "execution_count": 15,
   "id": "9a42aa77",
   "metadata": {},
   "outputs": [],
   "source": [
    "data_smooth = np.load(f\"data_samples_{MODEL.lower()}.npz\")\n",
    "bg_smooth = np.load(f\"bg_samples_{MODEL.lower()}.npz\")"
   ]
  },
  {
   "cell_type": "code",
   "execution_count": 16,
   "id": "8dea22bd",
   "metadata": {},
   "outputs": [],
   "source": [
    "from matplotlib import pyplot as plt"
   ]
  },
  {
   "cell_type": "code",
   "execution_count": 17,
   "id": "df06fc7c",
   "metadata": {},
   "outputs": [
    {
     "data": {
      "text/plain": [
       "55.585453"
      ]
     },
     "execution_count": 17,
     "metadata": {},
     "output_type": "execute_result"
    }
   ],
   "source": [
    "data_mse = ((data_smooth[\"model_forces\"] - data_smooth[\"target_forces\"])**2).mean()\n",
    "np.sqrt(data_mse)"
   ]
  },
  {
   "cell_type": "code",
   "execution_count": 18,
   "id": "07e70668",
   "metadata": {},
   "outputs": [
    {
     "data": {
      "text/plain": [
       "139.2388"
      ]
     },
     "execution_count": 18,
     "metadata": {},
     "output_type": "execute_result"
    }
   ],
   "source": [
    "bg_mse = ((bg_smooth[\"model_forces\"] - bg_smooth[\"target_forces\"])**2).mean()\n",
    "np.sqrt(bg_mse)"
   ]
  },
  {
   "cell_type": "code",
   "execution_count": 19,
   "id": "7342e255",
   "metadata": {},
   "outputs": [],
   "source": [
    "def plot_energies(ax, d):\n",
    "    md_energies = d[\"target_energies\"].flatten()\n",
    "    sample_energies = d[\"model_energies\"].flatten()\n",
    "    #md_energies -= md_energies.min()\n",
    "    sample_energies -= (sample_energies.min() - md_energies.min())\n",
    "\n",
    "    cut = max(np.percentile(sample_energies, 80), 20)\n",
    "\n",
    "    # y-axis on the right\n",
    "    ax2 = plt.twinx(ax)\n",
    "    ax.get_yaxis().set_visible(False)\n",
    "\n",
    "    ax2.hist(\n",
    "        sample_energies, range=(-50, cut), bins=50, \n",
    "        density=False, label=\"Target\", fc=(1.0, 0, 0, 0.6)\n",
    "    )\n",
    "    ax2.hist(\n",
    "        md_energies, range=(-50, cut), bins=50, \n",
    "        density=False, label=\"Flow\", fc=(0,0,0.8,0.2), lw=1, ec=\"black\"\n",
    "    )\n",
    "    ax2.set_ylabel(f\"Count   [#Samples / 10000]\")\n",
    "    ax2.legend()"
   ]
  },
  {
   "cell_type": "code",
   "execution_count": 20,
   "id": "5e916b74",
   "metadata": {},
   "outputs": [
    {
     "data": {
      "text/plain": [
       "187.28731"
      ]
     },
     "execution_count": 20,
     "metadata": {},
     "output_type": "execute_result"
    }
   ],
   "source": [
    "data_smooth[\"target_energies\"].min() - data_smooth[\"model_energies\"].min()"
   ]
  },
  {
   "cell_type": "code",
   "execution_count": 21,
   "id": "ee0a4b45",
   "metadata": {},
   "outputs": [
    {
     "data": {
      "text/plain": [
       "189.03488"
      ]
     },
     "execution_count": 21,
     "metadata": {},
     "output_type": "execute_result"
    }
   ],
   "source": [
    "bg_smooth[\"target_energies\"].min() - bg_smooth[\"model_energies\"].min()"
   ]
  },
  {
   "cell_type": "code",
   "execution_count": 22,
   "id": "59d6808a",
   "metadata": {},
   "outputs": [],
   "source": [
    "from bgforces.ala2.plot import plot_phi_psi"
   ]
  },
  {
   "cell_type": "code",
   "execution_count": 23,
   "id": "5c56edb7",
   "metadata": {},
   "outputs": [
    {
     "name": "stderr",
     "output_type": "stream",
     "text": [
      "<ipython-input-23-117d5a2ba036>:26: MatplotlibDeprecationWarning: savefig() got unexpected keyword argument \"extra_bbox_agents\" which is no longer supported as of 3.3 and will become an error two minor releases later\n",
      "  fig.savefig(f\"{MODEL.lower()}_bg.png\", dpi=360, extra_bbox_agents=(text1, text2), bbox_inches=\"tight\")\n",
      "<ipython-input-23-117d5a2ba036>:27: MatplotlibDeprecationWarning: savefig() got unexpected keyword argument \"extra_bbox_agents\" which is no longer supported as of 3.3 and will become an error two minor releases later\n",
      "  fig.savefig(f\"{MODEL.lower()}_bg.pdf\", dpi=360, extra_bbox_agents=(text1, text2), bbox_inches=\"tight\")\n"
     ]
    },
    {
     "data": {
      "image/png": "[encoded data removed]",
      "text/plain": [
       "<Figure size 576x324 with 8 Axes>"
      ]
     },
     "metadata": {
      "needs_background": "light"
     },
     "output_type": "display_data"
    }
   ],
   "source": [
    "fig, axes = plt.subplots(2,3,figsize=(8,4.5), sharex=\"col\")\n",
    "fig.tight_layout()\n",
    "\n",
    "plot_phi_psi(axes[0,0], torch.tensor(data_smooth[\"samples\"]), data.dataset.system)\n",
    "text1 = axes[0,0].text(-6, 0, \"TEST SET (MD)\", rotation=90, fontsize=12, va=\"center\")\n",
    "plot_phi_psi(axes[1,0], torch.tensor(bg_smooth[\"samples\"]), data.dataset.system)\n",
    "text2 = axes[1,0].text(-6, 0, \"BG SAMPLES\", rotation=90, fontsize=12, va=\"center\")\n",
    "\n",
    "ax = axes[0,1]\n",
    "ax.scatter(data_smooth[\"model_forces\"], data_smooth[\"target_forces\"], s=0.1, color=\"blue\")\n",
    "ax.set_xlim(-2800., 2800.)\n",
    "ax.set_ylim(-2800., 2800.)\n",
    "ax.set_ylabel(\"Flow Forces [$k_B T$/nm]\", labelpad=-60)\n",
    "\n",
    "ax = axes[1,1]\n",
    "ax.scatter(bg_smooth[\"model_forces\"], bg_smooth[\"target_forces\"], s=0.1, color=\"red\")\n",
    "ax.set_xlim(-2800., 2800.)\n",
    "ax.set_ylim(-2800., 2800.)\n",
    "ax.set_xlabel(\"Target Forces [$k_B T$/nm]\")\n",
    "ax.set_ylabel(\"Flow Forces [$k_B T$/nm]\", labelpad=-60)\n",
    "\n",
    "plot_energies(axes[0,2], data_smooth)\n",
    "plot_energies(axes[1,2], bg_smooth)\n",
    "axes[1,2].set_xlabel(\"Energy   [$k_B T$]\")\n",
    "\n",
    "fig.savefig(f\"{MODEL.lower()}_bg.png\", dpi=360, extra_bbox_agents=(text1, text2), bbox_inches=\"tight\")\n",
    "fig.savefig(f\"{MODEL.lower()}_bg.pdf\", dpi=360, extra_bbox_agents=(text1, text2), bbox_inches=\"tight\")"
   ]
  },
  {
   "cell_type": "code",
   "execution_count": null,
   "id": "37b63bc7",
   "metadata": {},
   "outputs": [],
   "source": []
  },
  {
   "cell_type": "code",
   "execution_count": null,
   "id": "49acda8d",
   "metadata": {},
   "outputs": [],
   "source": []
  }
 ],
 "metadata": {
  "kernelspec": {
   "display_name": "Python 3",
   "language": "python",
   "name": "python3"
  },
  "language_info": {
   "codemirror_mode": {
    "name": "ipython",
    "version": 3
   },
   "file_extension": ".py",
   "mimetype": "text/x-python",
   "name": "python",
   "nbconvert_exporter": "python",
   "pygments_lexer": "ipython3",
   "version": "3.9.4"
  }
 },
 "nbformat": 4,
 "nbformat_minor": 5
}
