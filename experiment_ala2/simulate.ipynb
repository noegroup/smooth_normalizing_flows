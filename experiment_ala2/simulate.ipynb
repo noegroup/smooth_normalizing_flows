{
 "cells": [
  {
   "cell_type": "markdown",
   "id": "2cb999d9",
   "metadata": {},
   "source": [
    "# Check Energy Conservation when Simulating with Flows"
   ]
  },
  {
   "cell_type": "code",
   "execution_count": 1,
   "id": "05022eb3",
   "metadata": {},
   "outputs": [],
   "source": [
    "%load_ext autoreload\n",
    "%autoreload 2"
   ]
  },
  {
   "cell_type": "code",
   "execution_count": 2,
   "id": "bc40cdf0",
   "metadata": {},
   "outputs": [],
   "source": [
    "import torch"
   ]
  },
  {
   "cell_type": "markdown",
   "id": "0f59294d",
   "metadata": {},
   "source": [
    "## Read Model"
   ]
  },
  {
   "cell_type": "code",
   "execution_count": 3,
   "id": "2b94dc4f",
   "metadata": {},
   "outputs": [],
   "source": [
    "checkpoints = {\n",
    "    \"example\": \"example_checkpoint.ckpt\",\n",
    "    \"smooth\": ..,\n",
    "    \"smooth_nll\": ...,\n",
    "    \"smooth_inverse\": ...,\n",
    "    \"spline\": ...,\n",
    "    \"affine\": ...\n",
    "}\n",
    "\n",
    "MODEL = \"example\"\n",
    "CHECKPOINT = checkpoints[MODEL]\n"
   ]
  },
  {
   "cell_type": "code",
   "execution_count": 4,
   "id": "738893fd",
   "metadata": {},
   "outputs": [
    {
     "name": "stderr",
     "output_type": "stream",
     "text": [
      "Warning: importing 'simtk.openmm' is deprecated.  Import 'openmm' instead.\n"
     ]
    },
    {
     "name": "stdout",
     "output_type": "stream",
     "text": [
      "Using downloaded and verified file: /tmp/A.pdb\n"
     ]
    },
    {
     "name": "stderr",
     "output_type": "stream",
     "text": [
      "/srv/public/kraemea88/coding/bgflow/bgflow/distribution/energy/openmm.py:215: UserWarning: It looks like you are using an OpenMMBridge with multiple workers in an ipython environment. This can behave a bit silly upon KeyboardInterrupt (e.g., kill the stdout stream). If you experience any issues, consider initializing the bridge with n_workers=1 in ipython/jupyter.\n",
      "  warnings.warn(\n"
     ]
    }
   ],
   "source": [
    "\n",
    "from ala2flow import Ala2Generator\n",
    "\n",
    "loaded = Ala2Generator.load_from_checkpoint(\n",
    "    CHECKPOINT\n",
    ")"
   ]
  },
  {
   "cell_type": "markdown",
   "id": "ec592c2f",
   "metadata": {},
   "source": [
    "## Read Dataset"
   ]
  },
  {
   "cell_type": "code",
   "execution_count": 5,
   "id": "89cd8f78",
   "metadata": {},
   "outputs": [
    {
     "name": "stdout",
     "output_type": "stream",
     "text": [
      "Using downloaded and verified file: /tmp/A.pdb\n",
      "Using downloaded and verified file: /tmp/A.pdb\n"
     ]
    }
   ],
   "source": [
    "from ala2flow import Ala2Data\n",
    "data = Ala2Data(batch_size=128, slice=1)\n",
    "data.prepare_data()\n",
    "data.setup()"
   ]
  },
  {
   "cell_type": "markdown",
   "id": "7c129e07",
   "metadata": {},
   "source": [
    "### Extract Masses and Initial Positions"
   ]
  },
  {
   "cell_type": "code",
   "execution_count": 6,
   "id": "43daa457",
   "metadata": {},
   "outputs": [],
   "source": [
    "from simtk.unit import amu\n",
    "masses = []\n",
    "\n",
    "for atom in data.dataset.system.topology.atoms():\n",
    "    masses.append(atom.element.mass.value_in_unit(amu))\n",
    "\n",
    "masses = torch.tensor(masses)"
   ]
  },
  {
   "cell_type": "code",
   "execution_count": 7,
   "id": "51924394",
   "metadata": {},
   "outputs": [
    {
     "data": {
      "text/plain": [
       "(torch.Size([10, 22, 3]), torch.Size([22]))"
      ]
     },
     "execution_count": 7,
     "metadata": {},
     "output_type": "execute_result"
    }
   ],
   "source": [
    "x0=torch.tensor(data.dataset.xyz[:10])\n",
    "x0.shape, masses.shape\n",
    "# flow_potential.force(x0)"
   ]
  },
  {
   "cell_type": "markdown",
   "id": "433c6d17",
   "metadata": {},
   "source": [
    "## Define Model as the Potential for the Simulation"
   ]
  },
  {
   "cell_type": "code",
   "execution_count": 8,
   "id": "b8db9932",
   "metadata": {},
   "outputs": [],
   "source": [
    "from ala2flow import FlowPotentialWrapper\n",
    "potential = FlowPotentialWrapper(loaded.model, data.dataset.temperature)"
   ]
  },
  {
   "cell_type": "code",
   "execution_count": 9,
   "id": "54254bb2",
   "metadata": {},
   "outputs": [],
   "source": [
    "# -- uncomment this to simulate with the ground truth potential instead --\n",
    "#potential = FlowPotentialWrapper(\n",
    "#    data.dataset.system.energy_model, \n",
    "#    data.dataset.temperature\n",
    "#)\n"
   ]
  },
  {
   "cell_type": "markdown",
   "id": "e0f5f915",
   "metadata": {},
   "source": [
    "## NVT Equilibration"
   ]
  },
  {
   "cell_type": "code",
   "execution_count": 10,
   "id": "e67955e3",
   "metadata": {},
   "outputs": [],
   "source": [
    "from ala2flow import VerletIntegrator, Simulation, LangevinIntegrator\n",
    "nvt_integrator = LangevinIntegrator(potential, 0.001, masses=masses, temperature=300.)\n",
    "nvt_simulation = Simulation(\n",
    "    potential,\n",
    "    nvt_integrator,\n",
    "    x0=torch.tensor(data.dataset.xyz[:10]),\n",
    "    temperature=data.dataset.temperature\n",
    ")"
   ]
  },
  {
   "cell_type": "code",
   "execution_count": 11,
   "id": "e8452777",
   "metadata": {},
   "outputs": [
    {
     "data": {
      "application/vnd.jupyter.widget-view+json": {
       "model_id": "917f7ca97ccf4f969b5282bf85cb8ceb",
       "version_major": 2,
       "version_minor": 0
      },
      "text/plain": [
       "  0%|          | 0/1000 [00:00<?, ?it/s]"
      ]
     },
     "metadata": {},
     "output_type": "display_data"
    }
   ],
   "source": [
    "from tqdm.auto import tqdm\n",
    "nvt_simulation.step(1000, progress_bar=tqdm)"
   ]
  },
  {
   "cell_type": "markdown",
   "id": "5647b4bf",
   "metadata": {},
   "source": [
    "## NVE Simulation"
   ]
  },
  {
   "cell_type": "code",
   "execution_count": 12,
   "id": "236cfc3e",
   "metadata": {},
   "outputs": [],
   "source": [
    "nve_integrator = VerletIntegrator(potential, 0.001, masses=masses)\n",
    "nve_simulation = Simulation(\n",
    "    potential, \n",
    "    nve_integrator,\n",
    "    x0=nvt_simulation.x,\n",
    "    v0=nvt_simulation.v\n",
    ")"
   ]
  },
  {
   "cell_type": "code",
   "execution_count": 13,
   "id": "85ff27eb",
   "metadata": {},
   "outputs": [
    {
     "data": {
      "application/vnd.jupyter.widget-view+json": {
       "model_id": "568ae6910c4d4a729b29f5504d8bf790",
       "version_major": 2,
       "version_minor": 0
      },
      "text/plain": [
       "  0%|          | 0/10000 [00:00<?, ?it/s]"
      ]
     },
     "metadata": {},
     "output_type": "display_data"
    }
   ],
   "source": [
    "nve_simulation.step(10000, progress_bar=tqdm)"
   ]
  },
  {
   "cell_type": "code",
   "execution_count": 14,
   "id": "7cbff190",
   "metadata": {},
   "outputs": [
    {
     "data": {
      "text/plain": [
       "0.001"
      ]
     },
     "execution_count": 14,
     "metadata": {},
     "output_type": "execute_result"
    }
   ],
   "source": [
    "nve_simulation.integrator.time_step"
   ]
  },
  {
   "cell_type": "code",
   "execution_count": 15,
   "id": "ff8f2b65",
   "metadata": {},
   "outputs": [],
   "source": [
    "from matplotlib import pyplot as plt\n",
    "import numpy as np"
   ]
  },
  {
   "cell_type": "code",
   "execution_count": 16,
   "id": "9ec9d464",
   "metadata": {},
   "outputs": [
    {
     "data": {
      "text/plain": [
       "Text(0, 0.5, 'Total Energy [kJ/mol]')"
      ]
     },
     "execution_count": 16,
     "metadata": {},
     "output_type": "execute_result"
    },
    {
     "data": {
      "image/png": "[encoded data removed]",
      "text/plain": [
       "<Figure size 216x216 with 1 Axes>"
      ]
     },
     "metadata": {
      "needs_background": "light"
     },
     "output_type": "display_data"
    }
   ],
   "source": [
    "fig, ax = plt.subplots(figsize=(3,3))\n",
    "\n",
    "energies = np.array(nve_simulation.energies)\n",
    "dt = nve_simulation.report_interval * nve_simulation.integrator.time_step\n",
    "times = np.arange(len(energies))*dt\n",
    "ax.plot(times, energies[:,2,:])\n",
    "ax.set_xlim(0.0, times[-1])\n",
    "ax.set_xlabel(\"t [ps]\")\n",
    "ax.set_ylabel(\"Total Energy [kJ/mol]\")"
   ]
  },
  {
   "cell_type": "code",
   "execution_count": 17,
   "id": "f48783e8",
   "metadata": {},
   "outputs": [],
   "source": [
    "np.save(f\"energies_{MODEL}.npy\", energies)"
   ]
  },
  {
   "cell_type": "code",
   "execution_count": null,
   "id": "3380c392",
   "metadata": {},
   "outputs": [],
   "source": []
  }
 ],
 "metadata": {
  "kernelspec": {
   "display_name": "Python 3 (ipykernel)",
   "language": "python",
   "name": "python3"
  },
  "language_info": {
   "codemirror_mode": {
    "name": "ipython",
    "version": 3
   },
   "file_extension": ".py",
   "mimetype": "text/x-python",
   "name": "python",
   "nbconvert_exporter": "python",
   "pygments_lexer": "ipython3",
   "version": "3.9.7"
  }
 },
 "nbformat": 4,
 "nbformat_minor": 5
}
